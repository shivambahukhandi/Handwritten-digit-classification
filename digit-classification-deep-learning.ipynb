{
 "cells": [
  {
   "cell_type": "code",
   "execution_count": 4,
   "id": "52737c53",
   "metadata": {
    "_cell_guid": "b1076dfc-b9ad-4769-8c92-a6c4dae69d19",
    "_uuid": "8f2839f25d086af736a60e9eeb907d3b93b6e0e5",
    "execution": {
     "iopub.execute_input": "2021-11-23T09:36:35.950194Z",
     "iopub.status.busy": "2021-11-23T09:36:35.949377Z",
     "iopub.status.idle": "2021-11-23T09:36:41.618256Z",
     "shell.execute_reply": "2021-11-23T09:36:41.617245Z",
     "shell.execute_reply.started": "2021-11-23T09:28:20.886257Z"
    },
    "papermill": {
     "duration": 5.691309,
     "end_time": "2021-11-23T09:36:41.618431",
     "exception": false,
     "start_time": "2021-11-23T09:36:35.927122",
     "status": "completed"
    },
    "tags": []
   },
   "outputs": [],
   "source": [
    "import pandas as pd\n",
    "import numpy as np\n",
    "import matplotlib.pyplot as plt\n",
    "import tensorflow as tf "
   ]
  },
  {
   "cell_type": "code",
   "execution_count": 5,
   "id": "88dda5f5",
   "metadata": {
    "_cell_guid": "79c7e3d0-c299-4dcb-8224-4455121ee9b0",
    "_uuid": "d629ff2d2480ee46fbb7e2d37f6b5fab8052498a",
    "execution": {
     "iopub.execute_input": "2021-11-23T09:36:41.647630Z",
     "iopub.status.busy": "2021-11-23T09:36:41.645321Z",
     "iopub.status.idle": "2021-11-23T09:36:46.407249Z",
     "shell.execute_reply": "2021-11-23T09:36:46.406133Z",
     "shell.execute_reply.started": "2021-11-23T09:28:24.637641Z"
    },
    "papermill": {
     "duration": 4.775311,
     "end_time": "2021-11-23T09:36:46.407417",
     "exception": false,
     "start_time": "2021-11-23T09:36:41.632106",
     "status": "completed"
    },
    "tags": []
   },
   "outputs": [],
   "source": [
    "train_input = \"train.csv\"\n",
    "test_input = \"test.csv\"\n",
    "\n",
    "train_dataset = pd.read_csv(train_input)\n",
    "test_dataset = pd.read_csv(test_input)"
   ]
  },
  {
   "cell_type": "code",
   "execution_count": 11,
   "id": "f6206c5f",
   "metadata": {},
   "outputs": [
    {
     "name": "stdout",
     "output_type": "stream",
     "text": [
      "<class 'pandas.core.frame.DataFrame'>\n",
      "RangeIndex: 42000 entries, 0 to 41999\n",
      "Columns: 785 entries, label to pixel783\n",
      "dtypes: int64(785)\n",
      "memory usage: 251.5 MB\n"
     ]
    }
   ],
   "source": [
    "train_dataset.info()"
   ]
  },
  {
   "cell_type": "code",
   "execution_count": 12,
   "id": "592b2471",
   "metadata": {
    "execution": {
     "iopub.execute_input": "2021-11-23T09:36:46.440590Z",
     "iopub.status.busy": "2021-11-23T09:36:46.439578Z",
     "iopub.status.idle": "2021-11-23T09:36:46.457888Z",
     "shell.execute_reply": "2021-11-23T09:36:46.458355Z",
     "shell.execute_reply.started": "2021-11-23T09:28:30.294550Z"
    },
    "papermill": {
     "duration": 0.039928,
     "end_time": "2021-11-23T09:36:46.458523",
     "exception": false,
     "start_time": "2021-11-23T09:36:46.418595",
     "status": "completed"
    },
    "tags": []
   },
   "outputs": [
    {
     "data": {
      "text/html": [
       "<div>\n",
       "<style scoped>\n",
       "    .dataframe tbody tr th:only-of-type {\n",
       "        vertical-align: middle;\n",
       "    }\n",
       "\n",
       "    .dataframe tbody tr th {\n",
       "        vertical-align: top;\n",
       "    }\n",
       "\n",
       "    .dataframe thead th {\n",
       "        text-align: right;\n",
       "    }\n",
       "</style>\n",
       "<table border=\"1\" class=\"dataframe\">\n",
       "  <thead>\n",
       "    <tr style=\"text-align: right;\">\n",
       "      <th></th>\n",
       "      <th>label</th>\n",
       "      <th>pixel0</th>\n",
       "      <th>pixel1</th>\n",
       "      <th>pixel2</th>\n",
       "      <th>pixel3</th>\n",
       "      <th>pixel4</th>\n",
       "      <th>pixel5</th>\n",
       "      <th>pixel6</th>\n",
       "      <th>pixel7</th>\n",
       "      <th>pixel8</th>\n",
       "      <th>...</th>\n",
       "      <th>pixel774</th>\n",
       "      <th>pixel775</th>\n",
       "      <th>pixel776</th>\n",
       "      <th>pixel777</th>\n",
       "      <th>pixel778</th>\n",
       "      <th>pixel779</th>\n",
       "      <th>pixel780</th>\n",
       "      <th>pixel781</th>\n",
       "      <th>pixel782</th>\n",
       "      <th>pixel783</th>\n",
       "    </tr>\n",
       "  </thead>\n",
       "  <tbody>\n",
       "    <tr>\n",
       "      <th>0</th>\n",
       "      <td>1</td>\n",
       "      <td>0</td>\n",
       "      <td>0</td>\n",
       "      <td>0</td>\n",
       "      <td>0</td>\n",
       "      <td>0</td>\n",
       "      <td>0</td>\n",
       "      <td>0</td>\n",
       "      <td>0</td>\n",
       "      <td>0</td>\n",
       "      <td>...</td>\n",
       "      <td>0</td>\n",
       "      <td>0</td>\n",
       "      <td>0</td>\n",
       "      <td>0</td>\n",
       "      <td>0</td>\n",
       "      <td>0</td>\n",
       "      <td>0</td>\n",
       "      <td>0</td>\n",
       "      <td>0</td>\n",
       "      <td>0</td>\n",
       "    </tr>\n",
       "    <tr>\n",
       "      <th>1</th>\n",
       "      <td>0</td>\n",
       "      <td>0</td>\n",
       "      <td>0</td>\n",
       "      <td>0</td>\n",
       "      <td>0</td>\n",
       "      <td>0</td>\n",
       "      <td>0</td>\n",
       "      <td>0</td>\n",
       "      <td>0</td>\n",
       "      <td>0</td>\n",
       "      <td>...</td>\n",
       "      <td>0</td>\n",
       "      <td>0</td>\n",
       "      <td>0</td>\n",
       "      <td>0</td>\n",
       "      <td>0</td>\n",
       "      <td>0</td>\n",
       "      <td>0</td>\n",
       "      <td>0</td>\n",
       "      <td>0</td>\n",
       "      <td>0</td>\n",
       "    </tr>\n",
       "    <tr>\n",
       "      <th>2</th>\n",
       "      <td>1</td>\n",
       "      <td>0</td>\n",
       "      <td>0</td>\n",
       "      <td>0</td>\n",
       "      <td>0</td>\n",
       "      <td>0</td>\n",
       "      <td>0</td>\n",
       "      <td>0</td>\n",
       "      <td>0</td>\n",
       "      <td>0</td>\n",
       "      <td>...</td>\n",
       "      <td>0</td>\n",
       "      <td>0</td>\n",
       "      <td>0</td>\n",
       "      <td>0</td>\n",
       "      <td>0</td>\n",
       "      <td>0</td>\n",
       "      <td>0</td>\n",
       "      <td>0</td>\n",
       "      <td>0</td>\n",
       "      <td>0</td>\n",
       "    </tr>\n",
       "    <tr>\n",
       "      <th>3</th>\n",
       "      <td>4</td>\n",
       "      <td>0</td>\n",
       "      <td>0</td>\n",
       "      <td>0</td>\n",
       "      <td>0</td>\n",
       "      <td>0</td>\n",
       "      <td>0</td>\n",
       "      <td>0</td>\n",
       "      <td>0</td>\n",
       "      <td>0</td>\n",
       "      <td>...</td>\n",
       "      <td>0</td>\n",
       "      <td>0</td>\n",
       "      <td>0</td>\n",
       "      <td>0</td>\n",
       "      <td>0</td>\n",
       "      <td>0</td>\n",
       "      <td>0</td>\n",
       "      <td>0</td>\n",
       "      <td>0</td>\n",
       "      <td>0</td>\n",
       "    </tr>\n",
       "    <tr>\n",
       "      <th>4</th>\n",
       "      <td>0</td>\n",
       "      <td>0</td>\n",
       "      <td>0</td>\n",
       "      <td>0</td>\n",
       "      <td>0</td>\n",
       "      <td>0</td>\n",
       "      <td>0</td>\n",
       "      <td>0</td>\n",
       "      <td>0</td>\n",
       "      <td>0</td>\n",
       "      <td>...</td>\n",
       "      <td>0</td>\n",
       "      <td>0</td>\n",
       "      <td>0</td>\n",
       "      <td>0</td>\n",
       "      <td>0</td>\n",
       "      <td>0</td>\n",
       "      <td>0</td>\n",
       "      <td>0</td>\n",
       "      <td>0</td>\n",
       "      <td>0</td>\n",
       "    </tr>\n",
       "  </tbody>\n",
       "</table>\n",
       "<p>5 rows × 785 columns</p>\n",
       "</div>"
      ],
      "text/plain": [
       "   label  pixel0  pixel1  pixel2  pixel3  pixel4  pixel5  pixel6  pixel7  \\\n",
       "0      1       0       0       0       0       0       0       0       0   \n",
       "1      0       0       0       0       0       0       0       0       0   \n",
       "2      1       0       0       0       0       0       0       0       0   \n",
       "3      4       0       0       0       0       0       0       0       0   \n",
       "4      0       0       0       0       0       0       0       0       0   \n",
       "\n",
       "   pixel8  ...  pixel774  pixel775  pixel776  pixel777  pixel778  pixel779  \\\n",
       "0       0  ...         0         0         0         0         0         0   \n",
       "1       0  ...         0         0         0         0         0         0   \n",
       "2       0  ...         0         0         0         0         0         0   \n",
       "3       0  ...         0         0         0         0         0         0   \n",
       "4       0  ...         0         0         0         0         0         0   \n",
       "\n",
       "   pixel780  pixel781  pixel782  pixel783  \n",
       "0         0         0         0         0  \n",
       "1         0         0         0         0  \n",
       "2         0         0         0         0  \n",
       "3         0         0         0         0  \n",
       "4         0         0         0         0  \n",
       "\n",
       "[5 rows x 785 columns]"
      ]
     },
     "execution_count": 12,
     "metadata": {},
     "output_type": "execute_result"
    }
   ],
   "source": [
    "train_dataset.head()"
   ]
  },
  {
   "cell_type": "code",
   "execution_count": 13,
   "id": "39aecb77",
   "metadata": {},
   "outputs": [
    {
     "name": "stdout",
     "output_type": "stream",
     "text": [
      "<class 'pandas.core.frame.DataFrame'>\n",
      "RangeIndex: 28000 entries, 0 to 27999\n",
      "Columns: 784 entries, pixel0 to pixel783\n",
      "dtypes: int64(784)\n",
      "memory usage: 167.5 MB\n"
     ]
    }
   ],
   "source": [
    "test_dataset.info()"
   ]
  },
  {
   "cell_type": "code",
   "execution_count": 10,
   "id": "bc818e01",
   "metadata": {
    "execution": {
     "iopub.execute_input": "2021-11-23T09:36:46.497127Z",
     "iopub.status.busy": "2021-11-23T09:36:46.496295Z",
     "iopub.status.idle": "2021-11-23T09:36:46.500285Z",
     "shell.execute_reply": "2021-11-23T09:36:46.499677Z",
     "shell.execute_reply.started": "2021-11-23T09:28:30.325067Z"
    },
    "papermill": {
     "duration": 0.030349,
     "end_time": "2021-11-23T09:36:46.500434",
     "exception": false,
     "start_time": "2021-11-23T09:36:46.470085",
     "status": "completed"
    },
    "tags": []
   },
   "outputs": [
    {
     "data": {
      "text/html": [
       "<div>\n",
       "<style scoped>\n",
       "    .dataframe tbody tr th:only-of-type {\n",
       "        vertical-align: middle;\n",
       "    }\n",
       "\n",
       "    .dataframe tbody tr th {\n",
       "        vertical-align: top;\n",
       "    }\n",
       "\n",
       "    .dataframe thead th {\n",
       "        text-align: right;\n",
       "    }\n",
       "</style>\n",
       "<table border=\"1\" class=\"dataframe\">\n",
       "  <thead>\n",
       "    <tr style=\"text-align: right;\">\n",
       "      <th></th>\n",
       "      <th>pixel0</th>\n",
       "      <th>pixel1</th>\n",
       "      <th>pixel2</th>\n",
       "      <th>pixel3</th>\n",
       "      <th>pixel4</th>\n",
       "      <th>pixel5</th>\n",
       "      <th>pixel6</th>\n",
       "      <th>pixel7</th>\n",
       "      <th>pixel8</th>\n",
       "      <th>pixel9</th>\n",
       "      <th>...</th>\n",
       "      <th>pixel774</th>\n",
       "      <th>pixel775</th>\n",
       "      <th>pixel776</th>\n",
       "      <th>pixel777</th>\n",
       "      <th>pixel778</th>\n",
       "      <th>pixel779</th>\n",
       "      <th>pixel780</th>\n",
       "      <th>pixel781</th>\n",
       "      <th>pixel782</th>\n",
       "      <th>pixel783</th>\n",
       "    </tr>\n",
       "  </thead>\n",
       "  <tbody>\n",
       "    <tr>\n",
       "      <th>0</th>\n",
       "      <td>0</td>\n",
       "      <td>0</td>\n",
       "      <td>0</td>\n",
       "      <td>0</td>\n",
       "      <td>0</td>\n",
       "      <td>0</td>\n",
       "      <td>0</td>\n",
       "      <td>0</td>\n",
       "      <td>0</td>\n",
       "      <td>0</td>\n",
       "      <td>...</td>\n",
       "      <td>0</td>\n",
       "      <td>0</td>\n",
       "      <td>0</td>\n",
       "      <td>0</td>\n",
       "      <td>0</td>\n",
       "      <td>0</td>\n",
       "      <td>0</td>\n",
       "      <td>0</td>\n",
       "      <td>0</td>\n",
       "      <td>0</td>\n",
       "    </tr>\n",
       "    <tr>\n",
       "      <th>1</th>\n",
       "      <td>0</td>\n",
       "      <td>0</td>\n",
       "      <td>0</td>\n",
       "      <td>0</td>\n",
       "      <td>0</td>\n",
       "      <td>0</td>\n",
       "      <td>0</td>\n",
       "      <td>0</td>\n",
       "      <td>0</td>\n",
       "      <td>0</td>\n",
       "      <td>...</td>\n",
       "      <td>0</td>\n",
       "      <td>0</td>\n",
       "      <td>0</td>\n",
       "      <td>0</td>\n",
       "      <td>0</td>\n",
       "      <td>0</td>\n",
       "      <td>0</td>\n",
       "      <td>0</td>\n",
       "      <td>0</td>\n",
       "      <td>0</td>\n",
       "    </tr>\n",
       "    <tr>\n",
       "      <th>2</th>\n",
       "      <td>0</td>\n",
       "      <td>0</td>\n",
       "      <td>0</td>\n",
       "      <td>0</td>\n",
       "      <td>0</td>\n",
       "      <td>0</td>\n",
       "      <td>0</td>\n",
       "      <td>0</td>\n",
       "      <td>0</td>\n",
       "      <td>0</td>\n",
       "      <td>...</td>\n",
       "      <td>0</td>\n",
       "      <td>0</td>\n",
       "      <td>0</td>\n",
       "      <td>0</td>\n",
       "      <td>0</td>\n",
       "      <td>0</td>\n",
       "      <td>0</td>\n",
       "      <td>0</td>\n",
       "      <td>0</td>\n",
       "      <td>0</td>\n",
       "    </tr>\n",
       "    <tr>\n",
       "      <th>3</th>\n",
       "      <td>0</td>\n",
       "      <td>0</td>\n",
       "      <td>0</td>\n",
       "      <td>0</td>\n",
       "      <td>0</td>\n",
       "      <td>0</td>\n",
       "      <td>0</td>\n",
       "      <td>0</td>\n",
       "      <td>0</td>\n",
       "      <td>0</td>\n",
       "      <td>...</td>\n",
       "      <td>0</td>\n",
       "      <td>0</td>\n",
       "      <td>0</td>\n",
       "      <td>0</td>\n",
       "      <td>0</td>\n",
       "      <td>0</td>\n",
       "      <td>0</td>\n",
       "      <td>0</td>\n",
       "      <td>0</td>\n",
       "      <td>0</td>\n",
       "    </tr>\n",
       "    <tr>\n",
       "      <th>4</th>\n",
       "      <td>0</td>\n",
       "      <td>0</td>\n",
       "      <td>0</td>\n",
       "      <td>0</td>\n",
       "      <td>0</td>\n",
       "      <td>0</td>\n",
       "      <td>0</td>\n",
       "      <td>0</td>\n",
       "      <td>0</td>\n",
       "      <td>0</td>\n",
       "      <td>...</td>\n",
       "      <td>0</td>\n",
       "      <td>0</td>\n",
       "      <td>0</td>\n",
       "      <td>0</td>\n",
       "      <td>0</td>\n",
       "      <td>0</td>\n",
       "      <td>0</td>\n",
       "      <td>0</td>\n",
       "      <td>0</td>\n",
       "      <td>0</td>\n",
       "    </tr>\n",
       "  </tbody>\n",
       "</table>\n",
       "<p>5 rows × 784 columns</p>\n",
       "</div>"
      ],
      "text/plain": [
       "   pixel0  pixel1  pixel2  pixel3  pixel4  pixel5  pixel6  pixel7  pixel8  \\\n",
       "0       0       0       0       0       0       0       0       0       0   \n",
       "1       0       0       0       0       0       0       0       0       0   \n",
       "2       0       0       0       0       0       0       0       0       0   \n",
       "3       0       0       0       0       0       0       0       0       0   \n",
       "4       0       0       0       0       0       0       0       0       0   \n",
       "\n",
       "   pixel9  ...  pixel774  pixel775  pixel776  pixel777  pixel778  pixel779  \\\n",
       "0       0  ...         0         0         0         0         0         0   \n",
       "1       0  ...         0         0         0         0         0         0   \n",
       "2       0  ...         0         0         0         0         0         0   \n",
       "3       0  ...         0         0         0         0         0         0   \n",
       "4       0  ...         0         0         0         0         0         0   \n",
       "\n",
       "   pixel780  pixel781  pixel782  pixel783  \n",
       "0         0         0         0         0  \n",
       "1         0         0         0         0  \n",
       "2         0         0         0         0  \n",
       "3         0         0         0         0  \n",
       "4         0         0         0         0  \n",
       "\n",
       "[5 rows x 784 columns]"
      ]
     },
     "execution_count": 10,
     "metadata": {},
     "output_type": "execute_result"
    }
   ],
   "source": [
    "test_dataset.head()"
   ]
  },
  {
   "cell_type": "code",
   "execution_count": 11,
   "id": "8925fb3c",
   "metadata": {
    "execution": {
     "iopub.execute_input": "2021-11-23T09:36:46.549268Z",
     "iopub.status.busy": "2021-11-23T09:36:46.539956Z",
     "iopub.status.idle": "2021-11-23T09:36:46.700143Z",
     "shell.execute_reply": "2021-11-23T09:36:46.699197Z",
     "shell.execute_reply.started": "2021-11-23T09:28:30.343628Z"
    },
    "papermill": {
     "duration": 0.188043,
     "end_time": "2021-11-23T09:36:46.700302",
     "exception": false,
     "start_time": "2021-11-23T09:36:46.512259",
     "status": "completed"
    },
    "tags": []
   },
   "outputs": [
    {
     "data": {
      "image/png": "[encoded data removed]",
      "text/plain": [
       "<Figure size 432x288 with 1 Axes>"
      ]
     },
     "metadata": {
      "needs_background": "light"
     },
     "output_type": "display_data"
    }
   ],
   "source": [
    "plt.bar(range(10), train_dataset.label.value_counts(), color=\"#FF6F00\", tick_label=range(10))\n",
    "plt.xlabel(\"Numbers\")\n",
    "plt.ylabel(\"Counts\")\n",
    "plt.show()"
   ]
  },
  {
   "cell_type": "code",
   "execution_count": 12,
   "id": "b5e122f8",
   "metadata": {
    "execution": {
     "iopub.execute_input": "2021-11-23T09:36:46.730727Z",
     "iopub.status.busy": "2021-11-23T09:36:46.730119Z",
     "iopub.status.idle": "2021-11-23T09:36:47.864136Z",
     "shell.execute_reply": "2021-11-23T09:36:47.863144Z",
     "shell.execute_reply.started": "2021-11-23T09:28:30.583009Z"
    },
    "papermill": {
     "duration": 1.151036,
     "end_time": "2021-11-23T09:36:47.864305",
     "exception": false,
     "start_time": "2021-11-23T09:36:46.713269",
     "status": "completed"
    },
    "tags": []
   },
   "outputs": [],
   "source": [
    "train_labels = tf.keras.utils.to_categorical(train_dataset.pop(\"label\"))"
   ]
  },
  {
   "cell_type": "markdown",
   "id": "d5503397",
   "metadata": {},
   "source": [
    "-1 for input x specifies that this dimension should be dynamically computed based on the number of input values in x, holding the size of all other dimensions constant.\n",
    "\n",
    "The last 1 indidates that the image is in grayscale."
   ]
  },
  {
   "cell_type": "code",
   "execution_count": 13,
   "id": "008fbf08",
   "metadata": {
    "execution": {
     "iopub.execute_input": "2021-11-23T09:36:47.898495Z",
     "iopub.status.busy": "2021-11-23T09:36:47.897825Z",
     "iopub.status.idle": "2021-11-23T09:36:48.280986Z",
     "shell.execute_reply": "2021-11-23T09:36:48.280334Z",
     "shell.execute_reply.started": "2021-11-23T09:28:31.788167Z"
    },
    "papermill": {
     "duration": 0.404475,
     "end_time": "2021-11-23T09:36:48.281127",
     "exception": false,
     "start_time": "2021-11-23T09:36:47.876652",
     "status": "completed"
    },
    "tags": []
   },
   "outputs": [],
   "source": [
    "train_dataset = np.array(train_dataset.values.reshape(-1, 28, 28, 1))\n",
    "test_dataset = np.array(test_dataset.values.reshape(-1, 28, 28, 1))"
   ]
  },
  {
   "cell_type": "markdown",
   "id": "ae976c0c",
   "metadata": {},
   "source": [
    "In RGB, The pixel values can range from 0 to 256. Each number represents a color code.\n",
    "When using the image as it is and passing through a Deep Neural Network, the computation of high numeric values may become more complex.\n",
    "To reduce this we can normalize the values to range from 0 to 1.\n",
    "In this way, the numbers will be small and the computation becomes easier and faster."
   ]
  },
  {
   "cell_type": "code",
   "execution_count": 14,
   "id": "97dd8a28",
   "metadata": {
    "execution": {
     "iopub.execute_input": "2021-11-23T09:36:48.309796Z",
     "iopub.status.busy": "2021-11-23T09:36:48.309059Z",
     "iopub.status.idle": "2021-11-23T09:36:48.502563Z",
     "shell.execute_reply": "2021-11-23T09:36:48.501999Z",
     "shell.execute_reply.started": "2021-11-23T09:28:32.186467Z"
    },
    "papermill": {
     "duration": 0.209227,
     "end_time": "2021-11-23T09:36:48.502704",
     "exception": false,
     "start_time": "2021-11-23T09:36:48.293477",
     "status": "completed"
    },
    "tags": []
   },
   "outputs": [],
   "source": [
    "train_dataset = train_dataset/255.0\n",
    "test_dataset = test_dataset/255.0\n",
    "#pixel-255"
   ]
  },
  {
   "cell_type": "code",
   "execution_count": 14,
   "id": "041a97b9",
   "metadata": {
    "execution": {
     "iopub.execute_input": "2021-11-23T09:36:48.532036Z",
     "iopub.status.busy": "2021-11-23T09:36:48.531243Z",
     "iopub.status.idle": "2021-11-23T09:36:48.533993Z",
     "shell.execute_reply": "2021-11-23T09:36:48.533487Z",
     "shell.execute_reply.started": "2021-11-23T09:28:32.386809Z"
    },
    "papermill": {
     "duration": 0.018841,
     "end_time": "2021-11-23T09:36:48.534142",
     "exception": false,
     "start_time": "2021-11-23T09:36:48.515301",
     "status": "completed"
    },
    "tags": []
   },
   "outputs": [],
   "source": [
    "checkpoint_path = \"logs/checkpoints/\""
   ]
  },
  {
   "cell_type": "markdown",
   "id": "8529db9b",
   "metadata": {},
   "source": [
    "Relu - If X>0 return X, else return 0;  it only passes values 0 or greater to the next layer in the network.\n",
    "\n",
    "Dense layer- Adds a layer of neurons\n",
    "Each layer of neurons need an activation function to tell them what to do\n",
    "\n",
    "Dropout- used to remove additional noises(irrevelant intermediate results) to decreasing processing time.\n",
    "\n",
    "IN CNN, we filter the images before training the deep neural network\n",
    "\n",
    "In normalation we scale down the values,ie, now we dont have wide range between data points.\n",
    "it happens before feeding the data the network\n",
    "\n",
    "Batch norm - sets a new std. dev and mean for the data, bu multiplying an arbitrary parameter and adding an arbit. param\n",
    "they reduce the ability of outliers large wghts to influence training.\n",
    "Normalise data from actv fn\n",
    " \n",
    " Acitvation fn- transforms the result to no btw 0 and 1(sigmoid)\n",
    " \n",
    "Dropout- this layer isused to reuce the no of features(nodes) hence reducing overfitting\n",
    "\n",
    "Optimizers -algorithms or methods used to change the attributes of your neural network such as weights and learning rate in order to reduce the losses."
   ]
  },
  {
   "cell_type": "code",
   "execution_count": 16,
   "id": "fc5abfbf",
   "metadata": {
    "execution": {
     "iopub.execute_input": "2021-11-23T09:36:48.562082Z",
     "iopub.status.busy": "2021-11-23T09:36:48.561444Z",
     "iopub.status.idle": "2021-11-23T09:43:16.264629Z",
     "shell.execute_reply": "2021-11-23T09:43:16.264079Z",
     "shell.execute_reply.started": "2021-11-23T09:28:32.394626Z"
    },
    "papermill": {
     "duration": 387.718351,
     "end_time": "2021-11-23T09:43:16.264776",
     "exception": false,
     "start_time": "2021-11-23T09:36:48.546425",
     "status": "completed"
    },
    "tags": []
   },
   "outputs": [
    {
     "name": "stdout",
     "output_type": "stream",
     "text": [
      "Model: \"sequential\"\n",
      "_________________________________________________________________\n",
      " Layer (type)                Output Shape              Param #   \n",
      "=================================================================\n",
      " conv2d (Conv2D)             (None, 28, 28, 64)        640       \n",
      "                                                                 \n",
      " max_pooling2d (MaxPooling2D  (None, 14, 14, 64)       0         \n",
      " )                                                               \n",
      "                                                                 \n",
      " conv2d_1 (Conv2D)           (None, 14, 14, 64)        36928     \n",
      "                                                                 \n",
      " max_pooling2d_1 (MaxPooling  (None, 7, 7, 64)         0         \n",
      " 2D)                                                             \n",
      "                                                                 \n",
      " dropout (Dropout)           (None, 7, 7, 64)          0         \n",
      "                                                                 \n",
      " conv2d_2 (Conv2D)           (None, 7, 7, 128)         73856     \n",
      "                                                                 \n",
      " max_pooling2d_2 (MaxPooling  (None, 3, 3, 128)        0         \n",
      " 2D)                                                             \n",
      "                                                                 \n",
      " batch_normalization (BatchN  (None, 3, 3, 128)        512       \n",
      " ormalization)                                                   \n",
      "                                                                 \n",
      " conv2d_3 (Conv2D)           (None, 3, 3, 128)         147584    \n",
      "                                                                 \n",
      " max_pooling2d_3 (MaxPooling  (None, 1, 1, 128)        0         \n",
      " 2D)                                                             \n",
      "                                                                 \n",
      " batch_normalization_1 (Batc  (None, 1, 1, 128)        512       \n",
      " hNormalization)                                                 \n",
      "                                                                 \n",
      " flatten (Flatten)           (None, 128)               0         \n",
      "                                                                 \n",
      " dense (Dense)               (None, 128)               16512     \n",
      "                                                                 \n",
      " dropout_1 (Dropout)         (None, 128)               0         \n",
      "                                                                 \n",
      " dense_1 (Dense)             (None, 10)                1290      \n",
      "                                                                 \n",
      "=================================================================\n",
      "Total params: 277,834\n",
      "Trainable params: 277,322\n",
      "Non-trainable params: 512\n",
      "_________________________________________________________________\n",
      "Epoch 1/10\n",
      "657/657 [==============================] - 38s 56ms/step - loss: 0.3191 - accuracy: 0.9004\n",
      "Epoch 2/10\n",
      "657/657 [==============================] - 37s 56ms/step - loss: 0.0985 - accuracy: 0.9707\n",
      "Epoch 3/10\n",
      "657/657 [==============================] - 37s 56ms/step - loss: 0.0724 - accuracy: 0.9789\n",
      "Epoch 4/10\n",
      "657/657 [==============================] - 37s 56ms/step - loss: 0.0614 - accuracy: 0.9820\n",
      "Epoch 5/10\n",
      "657/657 [==============================] - 37s 57ms/step - loss: 0.0588 - accuracy: 0.9827\n",
      "Epoch 6/10\n",
      "657/657 [==============================] - 31s 48ms/step - loss: 0.0489 - accuracy: 0.9853\n",
      "Epoch 7/10\n",
      "657/657 [==============================] - 36s 54ms/step - loss: 0.0480 - accuracy: 0.9858\n",
      "Epoch 8/10\n",
      "657/657 [==============================] - 38s 58ms/step - loss: 0.0439 - accuracy: 0.9870\n",
      "Epoch 9/10\n",
      "657/657 [==============================] - 38s 58ms/step - loss: 0.0392 - accuracy: 0.9884\n",
      "Epoch 10/10\n",
      "657/657 [==============================] - 44s 67ms/step - loss: 0.0365 - accuracy: 0.9889\n"
     ]
    }
   ],
   "source": [
    "model = tf.keras.models.Sequential([\n",
    "    tf.keras.layers.Conv2D(64, (3, 3), input_shape=(28, 28, 1), activation=tf.nn.relu, padding=\"SAME\"),#(n-f+1)->26*26 size\n",
    "    tf.keras.layers.MaxPooling2D(),#max value of a filter by striding\n",
    "    tf.keras.layers.Conv2D(64, (3, 3), activation=tf.nn.relu, padding=\"SAME\"),\n",
    "    tf.keras.layers.MaxPooling2D(),\n",
    "    tf.keras.layers.Dropout(0.5),\n",
    "    tf.keras.layers.Conv2D(128, (3, 3), activation=tf.nn.relu, padding=\"SAME\"),#not change  img size\n",
    "    #relu filter the output if the fun returns 0 or less\n",
    "    tf.keras.layers.MaxPooling2D(),\n",
    "    tf.keras.layers.BatchNormalization(),\n",
    "    tf.keras.layers.Conv2D(128, (3, 3), activation=tf.nn.relu, padding=\"SAME\"),\n",
    "    tf.keras.layers.MaxPooling2D(),\n",
    "    tf.keras.layers.BatchNormalization(),#to normalise the output from activation fn\n",
    "    tf.keras.layers.Flatten(), #image pixel array\n",
    "    tf.keras.layers.Dense(128, activation=tf.nn.relu),\n",
    "    tf.keras.layers.Dropout(0.5),#to prevent overfitting , used in training dataset\n",
    "    tf.keras.layers.Dense(10, activation=\"softmax\") #softmax picks the biggest number in the set(probability)\n",
    "])\n",
    "model.summary()\n",
    "epochs=10\n",
    "\n",
    "callbacks = [\n",
    "    tf.keras.callbacks.ModelCheckpoint(filepath=checkpoint_path,\n",
    "                                        monitor=\"accuracy\",\n",
    "                                        save_best_only=True,\n",
    "                                        save_weights_only=True),\n",
    "    tf.keras.callbacks.EarlyStopping(monitor=\"accuracy\", patience=15)#callbacks-best weight save\n",
    "]\n",
    "\n",
    "model.compile(optimizer=\"adam\", loss=\"categorical_crossentropy\", metrics=[\"accuracy\"])\n",
    "history = model.fit(train_dataset, train_labels, epochs=epochs, callbacks=callbacks, batch_size=64)\n",
    "#batch size 64 means 64 images wil be passed at a time or as a batch\n",
    "#larger the batch size quicker each epoch will be completed but if increased very large, may degrade the performance ofthe model"
   ]
  },
  {
   "cell_type": "code",
   "execution_count": 17,
   "id": "ca84e219",
   "metadata": {
    "execution": {
     "iopub.execute_input": "2021-11-23T09:43:19.360526Z",
     "iopub.status.busy": "2021-11-23T09:43:19.355758Z",
     "iopub.status.idle": "2021-11-23T09:43:19.697291Z",
     "shell.execute_reply": "2021-11-23T09:43:19.697759Z",
     "shell.execute_reply.started": "2021-11-23T09:35:55.676715Z"
    },
    "papermill": {
     "duration": 1.906321,
     "end_time": "2021-11-23T09:43:19.697944",
     "exception": false,
     "start_time": "2021-11-23T09:43:17.791623",
     "status": "completed"
    },
    "tags": []
   },
   "outputs": [
    {
     "data": {
      "image/png": "[encoded data removed]",
      "text/plain": [
       "<Figure size 432x288 with 1 Axes>"
      ]
     },
     "metadata": {
      "needs_background": "light"
     },
     "output_type": "display_data"
    },
    {
     "data": {
      "image/png": "[encoded data removed]",
      "text/plain": [
       "<Figure size 432x288 with 1 Axes>"
      ]
     },
     "metadata": {
      "needs_background": "light"
     },
     "output_type": "display_data"
    }
   ],
   "source": [
    "def plot_metric(metric):\n",
    "    plt.plot(range(epochs), history.history[metric], color=\"#FF6F00\")\n",
    "    plt.title(metric)\n",
    "    plt.show()  \n",
    "plot_metric(\"accuracy\")\n",
    "plot_metric(\"loss\")"
   ]
  },
  {
   "cell_type": "code",
   "execution_count": 18,
   "id": "48f6f2a8",
   "metadata": {
    "execution": {
     "iopub.execute_input": "2021-11-23T09:43:22.737786Z",
     "iopub.status.busy": "2021-11-23T09:43:22.737175Z",
     "iopub.status.idle": "2021-11-23T09:43:22.783166Z",
     "shell.execute_reply": "2021-11-23T09:43:22.783594Z",
     "shell.execute_reply.started": "2021-11-23T09:35:56.069706Z"
    },
    "papermill": {
     "duration": 1.570971,
     "end_time": "2021-11-23T09:43:22.783778",
     "exception": false,
     "start_time": "2021-11-23T09:43:21.212807",
     "status": "completed"
    },
    "tags": []
   },
   "outputs": [
    {
     "data": {
      "text/plain": [
       "<tensorflow.python.training.tracking.util.CheckpointLoadStatus at 0x1f0eda60f70>"
      ]
     },
     "execution_count": 18,
     "metadata": {},
     "output_type": "execute_result"
    }
   ],
   "source": [
    "model.load_weights(checkpoint_path)"
   ]
  },
  {
   "cell_type": "code",
   "execution_count": 19,
   "id": "c958f2b9",
   "metadata": {
    "execution": {
     "iopub.execute_input": "2021-11-23T09:43:25.928442Z",
     "iopub.status.busy": "2021-11-23T09:43:25.927794Z",
     "iopub.status.idle": "2021-11-23T09:43:35.470671Z",
     "shell.execute_reply": "2021-11-23T09:43:35.470140Z",
     "shell.execute_reply.started": "2021-11-23T09:35:56.136271Z"
    },
    "papermill": {
     "duration": 11.123462,
     "end_time": "2021-11-23T09:43:35.470832",
     "exception": false,
     "start_time": "2021-11-23T09:43:24.347370",
     "status": "completed"
    },
    "tags": []
   },
   "outputs": [],
   "source": [
    "labels = [np.argmax(predict) for predict in model.predict(test_dataset)]\n",
    "df = pd.DataFrame({\n",
    "    \"ImageId\": list(range(1, len(test_dataset)+1)),\n",
    "    \"Label\": labels,\n",
    "})"
   ]
  },
  {
   "cell_type": "code",
   "execution_count": null,
   "id": "c19c7e88",
   "metadata": {
    "execution": {
     "iopub.execute_input": "2021-11-23T09:43:38.480848Z",
     "iopub.status.busy": "2021-11-23T09:43:38.480170Z",
     "iopub.status.idle": "2021-11-23T09:43:38.514825Z",
     "shell.execute_reply": "2021-11-23T09:43:38.515409Z",
     "shell.execute_reply.started": "2021-11-23T09:36:05.425339Z"
    },
    "papermill": {
     "duration": 1.53528,
     "end_time": "2021-11-23T09:43:38.515577",
     "exception": false,
     "start_time": "2021-11-23T09:43:36.980297",
     "status": "completed"
    },
    "tags": []
   },
   "outputs": [],
   "source": []
  },
  {
   "cell_type": "code",
   "execution_count": 20,
   "id": "c076c02f",
   "metadata": {
    "execution": {
     "iopub.execute_input": "2021-11-23T09:43:41.547353Z",
     "iopub.status.busy": "2021-11-23T09:43:41.546693Z",
     "iopub.status.idle": "2021-11-23T09:43:41.597130Z",
     "shell.execute_reply": "2021-11-23T09:43:41.597623Z",
     "shell.execute_reply.started": "2021-11-23T09:36:05.490122Z"
    },
    "papermill": {
     "duration": 1.595666,
     "end_time": "2021-11-23T09:43:41.597788",
     "exception": false,
     "start_time": "2021-11-23T09:43:40.002122",
     "status": "completed"
    },
    "tags": []
   },
   "outputs": [],
   "source": [
    "model.save(\"model.h5\")"
   ]
  },
  {
   "cell_type": "code",
   "execution_count": 2,
   "id": "519eff21",
   "metadata": {
    "papermill": {
     "duration": 1.497983,
     "end_time": "2021-11-23T09:43:44.590212",
     "exception": false,
     "start_time": "2021-11-23T09:43:43.092229",
     "status": "completed"
    },
    "tags": []
   },
   "outputs": [],
   "source": [
    "import tkinter as tk\n",
    "from tkinter import *\n",
    "import win32gui\n",
    "import numpy as np\n",
    "from PIL import ImageGrab,Image\n",
    "import tkinter.messagebox\n",
    "import tensorflow as tf\n",
    "\n",
    "def clear():\n",
    "    canvas.delete(\"all\")\n",
    "\n",
    "def predict():\n",
    "    x0 = canvas.winfo_rootx() + 8\n",
    "    y0 = canvas.winfo_rooty() + 3\n",
    "    x1 = x0 + 425\n",
    "    y1 = y0 + 470\n",
    "\n",
    "    img = ImageGrab.grab((x0, y0, x1, y1))\n",
    "   \n",
    "    img = img.resize((28, 28)).convert(\"L\")\n",
    "    img = np.array(img)\n",
    "    img = img.reshape((1, 28, 28, 1))\n",
    "    img = img / 255.0\n",
    "    value = np.argmax(model.predict(img))\n",
    "    tkinter.messagebox.showinfo(\"Prediction\", \"it's a \" + str(value))\n",
    "\n",
    "def get_x_and_y(event):\n",
    "    global lasx, lasy\n",
    "    lasx, lasy = event.x, event.y\n",
    "    #to find prev coordinate of drawn point\n",
    "\n",
    "def draw(event):\n",
    "    global lasx, lasy\n",
    "    canvas.create_oval((lasx, lasy, event.x, event.y), \n",
    "                      fill='white', outline='white', \n",
    "                      width=15)\n",
    "    lasx, lasy = event.x, event.y\n",
    "\n",
    "\n",
    "\n",
    "model = tf.keras.models.load_model(\"model.h5\")\n",
    "window = Tk()\n",
    "window.geometry(\"350x400+1+1\")\n",
    "window.title(\"Digit Recognization.\")\n",
    "\n",
    "canvas = Canvas(window, bg='black',height=\"370\",width=\"340\")\n",
    "canvas.bind(\"<Button-1>\", get_x_and_y)\n",
    "canvas.bind(\"<B1-Motion>\", draw)\n",
    "\n",
    "button_frame = tk.Frame(window)\n",
    "clear_button = tk.Button(button_frame, text=\"Clearscreen\", command=clear)\n",
    "predict_button = tk.Button(button_frame, text=\"Predict the number\", command=predict)\n",
    "\n",
    "canvas.pack(expand= FALSE)#the canvas size remains same even after expanding the window\n",
    "clear_button.pack(side=\"left\")\n",
    "predict_button.pack(side=\"right\")\n",
    "button_frame.pack(side = \"bottom\")\n",
    "\n",
    "window.mainloop()"
   ]
  },
  {
   "cell_type": "code",
   "execution_count": null,
   "id": "96d17346",
   "metadata": {},
   "outputs": [],
   "source": []
  }
 ],
 "metadata": {
  "kernelspec": {
   "display_name": "Python 3 (ipykernel)",
   "language": "python",
   "name": "python3"
  },
  "language_info": {
   "codemirror_mode": {
    "name": "ipython",
    "version": 3
   },
   "file_extension": ".py",
   "mimetype": "text/x-python",
   "name": "python",
   "nbconvert_exporter": "python",
   "pygments_lexer": "ipython3",
   "version": "3.10.5"
  },
  "papermill": {
   "default_parameters": {},
   "duration": 444.314667,
   "end_time": "2021-11-23T09:43:52.252635",
   "environment_variables": {},
   "exception": null,
   "input_path": "__notebook__.ipynb",
   "output_path": "__notebook__.ipynb",
   "parameters": {},
   "start_time": "2021-11-23T09:36:27.937968",
   "version": "2.3.3"
  }
 },
 "nbformat": 4,
 "nbformat_minor": 5
}
